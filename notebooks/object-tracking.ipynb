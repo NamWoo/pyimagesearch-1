{
 "cells": [
  {
   "cell_type": "markdown",
   "metadata": {},
   "source": [
    "The following libraries are required."
   ]
  },
  {
   "cell_type": "code",
   "execution_count": 76,
   "metadata": {},
   "outputs": [],
   "source": [
    "import matplotlib.pyplot as plt\n",
    "import numpy as np\n",
    "from scipy.spatial import distance as dist"
   ]
  },
  {
   "cell_type": "markdown",
   "metadata": {},
   "source": [
    "This sets up a simulation of 5 five random points in space before and after some disturbance."
   ]
  },
  {
   "cell_type": "code",
   "execution_count": 77,
   "metadata": {},
   "outputs": [
    {
     "name": "stdout",
     "output_type": "stream",
     "text": [
      "First set of co-ordinates:\n",
      "[[-12.19934712 -13.58706107]\n",
      " [  0.12602839   5.7940266 ]\n",
      " [ -5.83923312  10.88983708]\n",
      " [ 14.34670373   1.04889734]\n",
      " [-10.45462379  -7.53377871]]\n",
      "\n",
      "Second set of co-ordinates:\n",
      "[[ -9.63570932  -6.64937052]\n",
      " [  0.90177465   8.28003383]\n",
      " [ 11.82227151   2.63881276]\n",
      " [ -6.32537629  15.30844322]\n",
      " [-12.22304356 -10.87817884]]\n"
     ]
    }
   ],
   "source": [
    "np.random.seed(20180814)\n",
    "\n",
    "# Random initial points.\n",
    "n_pnts = 5 \n",
    "range_pnts = 20\n",
    "coords_1 = np.random.uniform(-range_pnts, range_pnts, size = n_pnts * 2)\n",
    "coords_1 = coords_init.reshape(n_pnts, -1)\n",
    "\n",
    "# Randomly perturb points\n",
    "translate = np.random.normal(loc = 1, scale = 2, size = n_pnts * 2)\n",
    "translate = translate.reshape(n_pnts, -1)\n",
    "coords_2 = coords_1 + translate\n",
    "\n",
    "# Shuffle the pertubed points\n",
    "np.random.shuffle(coords_1)\n",
    "\n",
    "print(\"First set of co-ordinates:\")\n",
    "print(coords_init)\n",
    "\n",
    "print()\n",
    "\n",
    "print(\"Second set of co-ordinates:\")\n",
    "print(coords_next)"
   ]
  },
  {
   "cell_type": "markdown",
   "metadata": {},
   "source": [
    "Note that in the above, the second set of co-ordinates were shuffled since the objective will be to write some code to figure out pairs of close points.  It would be trivial if the points were in same order in both co-ordinate sets!  Here is a plot of the points:"
   ]
  },
  {
   "cell_type": "code",
   "execution_count": 111,
   "metadata": {},
   "outputs": [
    {
     "data": {
      "image/png": "[encoded data removed]",
      "text/plain": [
       "<Figure size 432x288 with 1 Axes>"
      ]
     },
     "metadata": {},
     "output_type": "display_data"
    }
   ],
   "source": [
    "# Plot the points.\n",
    "x_1, y_1 = coords_init.T\n",
    "x_2, y_2 = coords_next.T\n",
    "\n",
    "_ = plt.scatter(x_1, y_1, color = 'red', alpha = 0.4)\n",
    "_ = plt.scatter(x_2, y_2, color = 'blue')\n",
    "_ = plt.xlim((-range_pnts, range_pnts))\n",
    "_ = plt.ylim((-range_pnts, range_pnts))\n",
    "_ = plt.title(\"Centroid positions and indices\\n\"\n",
    "              \"before (red) and after (blue) translation\")\n",
    "\n",
    "for i, (x, y) in enumerate(zip(x_1, y_1)):\n",
    "    plt.annotate(i, xy=(x, y - 3), xycoords='data', color = 'red',\n",
    "                 alpha = 0.7)\n",
    "    \n",
    "for i, (x, y) in enumerate(zip(x_2, y_2)):\n",
    "    plt.annotate(i, xy=(x - 1, y + 2), xycoords='data', color = 'blue')\n"
   ]
  },
  {
   "cell_type": "markdown",
   "metadata": {},
   "source": [
    "It is clear from observation that the pairs of corresponding points are:\n",
    "\n",
    "| Before | After |\n",
    "| ------ | ----- |\n",
    "| 0      | 4     |\n",
    "| 1      | 1     |\n",
    "| 2      | 3     |\n",
    "| 3      | 2     |\n",
    "| 4      | 0     |\n",
    "\n",
    "\n",
    "The objective now is to deduce this with code.  The euclidean distance between first and second sets of points are found with:"
   ]
  },
  {
   "cell_type": "code",
   "execution_count": 112,
   "metadata": {},
   "outputs": [
    {
     "data": {
      "text/plain": [
       "array([[ 7.39620098, 25.49135601, 28.98822421, 29.48650033,  2.70898587],\n",
       "       [15.81548782,  2.60423006, 12.11435006, 11.49542283, 20.74757847],\n",
       "       [17.94539035,  7.22857239, 19.49379769,  4.44526888, 22.68478682],\n",
       "       [25.18768477, 15.26615384,  2.98338551, 25.11313484, 29.12398698],\n",
       "       [ 1.20532102, 19.46906399, 24.48962395, 23.21244898,  3.78316279]])"
      ]
     },
     "execution_count": 112,
     "metadata": {},
     "output_type": "execute_result"
    }
   ],
   "source": [
    "# Euclidean distances.\n",
    "euclidean_dist = dist.cdist(coords_init, coords_next)\n",
    "euclidean_dist"
   ]
  },
  {
   "cell_type": "markdown",
   "metadata": {},
   "source": [
    "The closest *second* point to each *first point* is given by the index of the minimum in each row.  The rows are then arranged in order of the minima, from smallest to largest:"
   ]
  },
  {
   "cell_type": "code",
   "execution_count": 120,
   "metadata": {},
   "outputs": [
    {
     "name": "stdout",
     "output_type": "stream",
     "text": [
      "Distance to nearest second point from each first point.\n",
      "[2.70898587 2.60423006 4.44526888 2.98338551 1.20532102]\n",
      "\n",
      "Indices of first points in order of distance to closest to second points:\n",
      "[4 1 0 3 2]\n"
     ]
    }
   ],
   "source": [
    "# Find point index which is closest to each point.\n",
    "rows = euclidean_dist.min(axis=1)\n",
    "print(\"Distance to closest second point from each first point.\")\n",
    "print(rows)\n",
    "\n",
    "print()\n",
    "\n",
    "rows = rows.argsort()\n",
    "print(\"Indices of first points in order of distance to closest \"\n",
    "      \"to second points:\")\n",
    "print(rows)"
   ]
  },
  {
   "cell_type": "markdown",
   "metadata": {},
   "source": [
    "The `row` array now lists the indices of the *first* set of co-ordinates in order of how close they are to the possible counterpart *second* point.  This can be observed in the figure.\n",
    "\n",
    "Next, we find index of the minimum value in each column; this denotes the closest *first* point for each *second* point.  We now arrange then arrange these in order of the closeness of *first* points to *second* points i.e. in order of `row`.  In other words, we lookup the *second* point corresponding to the *first* point in order of the distance of the closest point pairs."
   ]
  },
  {
   "cell_type": "code",
   "execution_count": 118,
   "metadata": {},
   "outputs": [
    {
     "name": "stdout",
     "output_type": "stream",
     "text": [
      "Closest first point for each second point.\n",
      "[4 1 3 2 0]\n",
      "[0 1 4 2 3]\n"
     ]
    }
   ],
   "source": [
    "cols = euclidean_dist.argmin(axis=1)\n",
    "print(\"Closest first point for each second point:\")\n",
    "print(cols)\n",
    "\n",
    "print()\n",
    "\n",
    "cols = cols[rows]\n",
    "print(\"Closest first point for each second point:\")\n",
    "print(cols)"
   ]
  },
  {
   "cell_type": "markdown",
   "metadata": {},
   "source": [
    "Now, we have pairs of *first* points and *second* points in order of their distance from each other."
   ]
  },
  {
   "cell_type": "code",
   "execution_count": 122,
   "metadata": {},
   "outputs": [
    {
     "name": "stdout",
     "output_type": "stream",
     "text": [
      "[(4, 0), (1, 1), (0, 4), (3, 2), (2, 3)]\n"
     ]
    }
   ],
   "source": [
    "print(list(zip(rows, cols)))"
   ]
  }
 ],
 "metadata": {
  "kernelspec": {
   "display_name": "Python [conda env:object-detection]",
   "language": "python",
   "name": "conda-env-object-detection-py"
  },
  "language_info": {
   "codemirror_mode": {
    "name": "ipython",
    "version": 3
   },
   "file_extension": ".py",
   "mimetype": "text/x-python",
   "name": "python",
   "nbconvert_exporter": "python",
   "pygments_lexer": "ipython3",
   "version": "3.7.0"
  }
 },
 "nbformat": 4,
 "nbformat_minor": 2
}
